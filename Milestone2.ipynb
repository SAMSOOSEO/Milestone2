{
 "cells": [
  {
   "cell_type": "markdown",
   "id": "9d5bbeb7-5cdf-421d-8f83-a346519daf12",
   "metadata": {},
   "source": [
    "### Since Jupyter Lab was unavailable on https://portal.expanse.sdsc.edu/, I performed the assignment locally on my personal notebook using Spark.\n",
    "\n",
    "<img src=\"error.png\" width=\"3000\" height=\"200\" alt=\"이미지 설명\">"
   ]
  },
  {
   "cell_type": "code",
   "execution_count": 12,
   "id": "0636e0a2-0d9b-45b0-9eaa-82d02d214026",
   "metadata": {},
   "outputs": [],
   "source": [
    "from pyspark.sql import SparkSession\n",
    "from pyspark.sql import DataFrame \n",
    "from pyspark.sql.functions import col, to_timestamp,when, expr,avg\n",
    "from pyspark.sql.types import *\n",
    "import pandas as pd\n",
    "from tabulate import tabulate\n",
    "import pandas as pd\n",
    "import seaborn as sns\n",
    "import matplotlib.pyplot as plt"
   ]
  },
  {
   "cell_type": "code",
   "execution_count": 2,
   "id": "6d5bd892-69e7-4542-9a48-f3fabd41b82d",
   "metadata": {},
   "outputs": [],
   "source": [
    "#Data Load\n",
    "spark = SparkSession.builder \\\n",
    "    .appName(\"NYC_Analysis\") \\\n",
    "    .getOrCreate()\n",
    "\n",
    "df_combined = spark.read.parquet(\n",
    "    \"fhvhv_tripdata_2019-02.parquet\",\n",
    "    \"fhvhv_tripdata_2019-03.parquet\",\n",
    "    \"fhvhv_tripdata_2019-04.parquet\",\n",
    "    \"fhvhv_tripdata_2019-05.parquet\",\n",
    "    \"fhvhv_tripdata_2019-06.parquet\",\n",
    ")"
   ]
  },
  {
   "cell_type": "markdown",
   "id": "06337414-c9da-4265-b9c2-96da4459bf45",
   "metadata": {},
   "source": [
    "1.File size"
   ]
  },
  {
   "cell_type": "code",
   "execution_count": 3,
   "id": "839f9da1-0505-497d-95b5-33932dc53875",
   "metadata": {
    "scrolled": true
   },
   "outputs": [
    {
     "name": "stdout",
     "output_type": "stream",
     "text": [
      "Total file size: 2,790,578,768 bytes (~2.60 GB)\n"
     ]
    }
   ],
   "source": [
    "# 1.File size\n",
    "#My local notebook couldn't handle the larger dataset efficiently due to performance bottlenecks, so I used this dataset for the assignment.\"\n",
    "import os\n",
    "\n",
    "file_sizes = [os.path.getsize(f) for f in [\n",
    "    \"fhvhv_tripdata_2019-02.parquet\",\n",
    "    \"fhvhv_tripdata_2019-03.parquet\",\n",
    "    \"fhvhv_tripdata_2019-04.parquet\",\n",
    "    \"fhvhv_tripdata_2019-05.parquet\",\n",
    "    \"fhvhv_tripdata_2019-06.parquet\",\n",
    "]]\n",
    "total_size = sum(file_sizes)\n",
    "\n",
    "print(f\"Total file size: {total_size:,} bytes (~{total_size / (1024 ** 3):.2f} GB)\")"
   ]
  },
  {
   "cell_type": "markdown",
   "id": "a5c2cded-35c0-4ce6-94e8-3745b6f63b6e",
   "metadata": {},
   "source": [
    "2.Print Schema"
   ]
  },
  {
   "cell_type": "code",
   "execution_count": 4,
   "id": "1135f4ee-b0ab-4280-9b23-a9d6319e830f",
   "metadata": {},
   "outputs": [
    {
     "name": "stdout",
     "output_type": "stream",
     "text": [
      "root\n",
      " |-- hvfhs_license_num: string (nullable = true)\n",
      " |-- dispatching_base_num: string (nullable = true)\n",
      " |-- originating_base_num: string (nullable = true)\n",
      " |-- request_datetime: timestamp_ntz (nullable = true)\n",
      " |-- on_scene_datetime: timestamp_ntz (nullable = true)\n",
      " |-- pickup_datetime: timestamp_ntz (nullable = true)\n",
      " |-- dropoff_datetime: timestamp_ntz (nullable = true)\n",
      " |-- PULocationID: long (nullable = true)\n",
      " |-- DOLocationID: long (nullable = true)\n",
      " |-- trip_miles: double (nullable = true)\n",
      " |-- trip_time: long (nullable = true)\n",
      " |-- base_passenger_fare: double (nullable = true)\n",
      " |-- tolls: double (nullable = true)\n",
      " |-- bcf: double (nullable = true)\n",
      " |-- sales_tax: double (nullable = true)\n",
      " |-- congestion_surcharge: double (nullable = true)\n",
      " |-- airport_fee: integer (nullable = true)\n",
      " |-- tips: double (nullable = true)\n",
      " |-- driver_pay: double (nullable = true)\n",
      " |-- shared_request_flag: string (nullable = true)\n",
      " |-- shared_match_flag: string (nullable = true)\n",
      " |-- access_a_ride_flag: string (nullable = true)\n",
      " |-- wav_request_flag: string (nullable = true)\n",
      " |-- wav_match_flag: integer (nullable = true)\n",
      "\n"
     ]
    }
   ],
   "source": [
    "# 1.Print Schema\n",
    "df_combined.printSchema() "
   ]
  },
  {
   "cell_type": "markdown",
   "id": "87c7b3e8-214f-4ad5-bb56-dfa9d35f2dfc",
   "metadata": {},
   "source": [
    "3.print total columns, rows"
   ]
  },
  {
   "cell_type": "code",
   "execution_count": 5,
   "id": "a107bd86-79ef-40d4-b60f-e14df3bb9be7",
   "metadata": {},
   "outputs": [
    {
     "name": "stdout",
     "output_type": "stream",
     "text": [
      "Total Columns: 24\n",
      "Total Rows: 109089759\n"
     ]
    }
   ],
   "source": [
    "#print total rows\n",
    "print(f\"Total Columns: {len(df_combined.columns)}\")\n",
    "print(f\"Total Rows: {df_combined.count()}\") "
   ]
  },
  {
   "cell_type": "markdown",
   "id": "dbaae4c7-46df-4982-9be0-44a4cdbaca4c",
   "metadata": {},
   "source": [
    "4.Print Data table"
   ]
  },
  {
   "cell_type": "code",
   "execution_count": 6,
   "id": "7e90cadd-9199-4fad-a232-26db7a6b7052",
   "metadata": {},
   "outputs": [
    {
     "name": "stdout",
     "output_type": "stream",
     "text": [
      "+-----------------+--------------------+--------------------+-------------------+-------------------+-------------------+-------------------+------------+------------+----------+---------+-------------------+-----+----+---------+--------------------+-----------+----+----------+-------------------+-----------------+------------------+----------------+--------------+\n",
      "|hvfhs_license_num|dispatching_base_num|originating_base_num|request_datetime   |on_scene_datetime  |pickup_datetime    |dropoff_datetime   |PULocationID|DOLocationID|trip_miles|trip_time|base_passenger_fare|tolls|bcf |sales_tax|congestion_surcharge|airport_fee|tips|driver_pay|shared_request_flag|shared_match_flag|access_a_ride_flag|wav_request_flag|wav_match_flag|\n",
      "+-----------------+--------------------+--------------------+-------------------+-------------------+-------------------+-------------------+------------+------------+----------+---------+-------------------+-----+----+---------+--------------------+-----------+----+----------+-------------------+-----------------+------------------+----------------+--------------+\n",
      "|HV0003           |B02867              |B02867              |2019-02-01 00:01:26|2019-02-01 00:02:55|2019-02-01 00:05:18|2019-02-01 00:14:57|245         |251         |2.45      |579      |9.35               |0.0  |0.23|0.83     |0.0                 |NULL       |0.0 |7.48      |Y                  |N                |N                 |N               |NULL          |\n",
      "|HV0003           |B02879              |B02879              |2019-02-01 00:26:08|2019-02-01 00:41:29|2019-02-01 00:41:29|2019-02-01 00:49:39|216         |197         |1.71      |490      |7.91               |0.0  |0.2 |0.7      |0.0                 |NULL       |2.0 |7.93      |N                  |N                |N                 |N               |NULL          |\n",
      "|HV0005           |B02510              |NULL                |2019-02-01 00:48:58|NULL               |2019-02-01 00:51:34|2019-02-01 01:28:29|261         |234         |5.01      |2159     |44.96              |0.0  |1.12|3.99     |0.0                 |NULL       |0.0 |35.97     |N                  |Y                |N                 |N               |NULL          |\n",
      "+-----------------+--------------------+--------------------+-------------------+-------------------+-------------------+-------------------+------------+------------+----------+---------+-------------------+-----+----+---------+--------------------+-----------+----+----------+-------------------+-----------------+------------------+----------------+--------------+\n",
      "only showing top 3 rows\n",
      "\n"
     ]
    }
   ],
   "source": [
    "df_combined.show(3, truncate=False) "
   ]
  },
  {
   "cell_type": "markdown",
   "id": "772a2d44-08d4-4eb7-ae43-5aa34baefe83",
   "metadata": {},
   "source": [
    "5.Map license numbers to service names"
   ]
  },
  {
   "cell_type": "code",
   "execution_count": 7,
   "id": "8a8a1f99-57a5-41e6-9c0e-d7579d274807",
   "metadata": {},
   "outputs": [
    {
     "name": "stdout",
     "output_type": "stream",
     "text": [
      "+-----------------+------------+\n",
      "|hvfhs_license_num|service_name|\n",
      "+-----------------+------------+\n",
      "|HV0003           |Uber        |\n",
      "|HV0003           |Uber        |\n",
      "|HV0005           |Lyft        |\n",
      "+-----------------+------------+\n",
      "only showing top 3 rows\n",
      "\n"
     ]
    }
   ],
   "source": [
    "df_combined = df_combined.withColumn(\n",
    "    \"service_name\",\n",
    "    when(col(\"hvfhs_license_num\") == \"HV0002\", \"Juno\")\n",
    "    .when(col(\"hvfhs_license_num\") == \"HV0003\", \"Uber\")\n",
    "    .when(col(\"hvfhs_license_num\") == \"HV0004\", \"Via\")\n",
    "    .when(col(\"hvfhs_license_num\") == \"HV0005\", \"Lyft\")\n",
    "    .otherwise(\"Unknown\")  \n",
    ")\n",
    "df_combined.select(\"hvfhs_license_num\", \"service_name\").show(3, truncate=False)"
   ]
  },
  {
   "cell_type": "markdown",
   "id": "81ea2cd3-6208-45e2-b2d0-d35a3be9da1b",
   "metadata": {},
   "source": [
    "6.Number of Trips per Service Provider"
   ]
  },
  {
   "cell_type": "code",
   "execution_count": 8,
   "id": "c618dd96-024e-417f-9867-3009b210e2f3",
   "metadata": {},
   "outputs": [
    {
     "data": {
      "image/png": "[encoded data removed]",
      "text/plain": [
       "<Figure size 1000x600 with 1 Axes>"
      ]
     },
     "metadata": {},
     "output_type": "display_data"
    }
   ],
   "source": [
    "import pandas as pd\n",
    "import matplotlib.pyplot as plt\n",
    "import seaborn as sns\n",
    "\n",
    "# Convert PySpark DataFrame to Pandas\n",
    "df_pandas = df_combined.groupBy([\"hvfhs_license_num\", \"service_name\"]).count().toPandas()\n",
    "\n",
    "# Create the bar plot\n",
    "plt.figure(figsize=(10, 6))\n",
    "sns.barplot(x=\"service_name\", y=\"count\", data=df_pandas)\n",
    "\n",
    "# Improve readability\n",
    "plt.xticks(rotation=45)  # Rotate x-axis labels if needed\n",
    "plt.xlabel(\"Service Name\")\n",
    "plt.ylabel(\"Count\")\n",
    "plt.title(\"Number of Trips per Service Provider\")\n",
    "\n",
    "# Show the plot\n",
    "plt.show()"
   ]
  },
  {
   "cell_type": "markdown",
   "id": "116f4e3f-08e2-4d33-aae4-73c27436c8bc",
   "metadata": {},
   "source": [
    "7.Creating delay_time(Min) column by subtracting request_datetime from pickup_datetime"
   ]
  },
  {
   "cell_type": "code",
   "execution_count": 9,
   "id": "889e75ac-e6f3-43ad-8990-258be2adf8a0",
   "metadata": {},
   "outputs": [],
   "source": [
    "df_combined = df_combined.withColumn(\"delay_time_minutes\", (col(\"pickup_datetime\") - col(\"request_datetime\")).cast(\"long\") / 60)"
   ]
  },
  {
   "cell_type": "markdown",
   "id": "13f02df5-b3fb-42ed-ba26-a75115c23a80",
   "metadata": {},
   "source": [
    "8.Calculate mean (average) and median of delay(mins)"
   ]
  },
  {
   "cell_type": "code",
   "execution_count": 15,
   "id": "285159f1-924f-43df-a6b8-9b6077450c77",
   "metadata": {},
   "outputs": [
    {
     "name": "stdout",
     "output_type": "stream",
     "text": [
      "Mean delay time: 5.10 mins\n",
      "Median delay time: 4.30 mins\n"
     ]
    }
   ],
   "source": [
    "mean_delay = df_combined.select(avg(\"delay_time_minutes\")).collect()[0][0]\n",
    "median_delay = df_combined.approxQuantile(\"delay_time_minutes\", [0.5], 0.01)[0]\n",
    "\n",
    "print(f\"Mean delay time: {mean_delay:.2f} mins\")\n",
    "print(f\"Median delay time: {median_delay:.2f} mins\")"
   ]
  },
  {
   "cell_type": "markdown",
   "id": "96945c72-55eb-4073-afc7-490047da7c4f",
   "metadata": {},
   "source": [
    "9. Calculate median delay time per service_name"
   ]
  },
  {
   "cell_type": "code",
   "execution_count": 17,
   "id": "1f5b2648-e877-46e6-a7e9-e6150886b331",
   "metadata": {
    "scrolled": true
   },
   "outputs": [
    {
     "name": "stdout",
     "output_type": "stream",
     "text": [
      "-----------------Mean---------------\n",
      "+------------+------------------+\n",
      "|service_name|        mean_delay|\n",
      "+------------+------------------+\n",
      "|        Lyft| 4.827334797295607|\n",
      "|         Via|  8.54001919891759|\n",
      "|        Juno|5.4139613653061005|\n",
      "|        Uber| 4.950232395021037|\n",
      "+------------+------------------+\n",
      "\n",
      "-----------------Median---------------\n",
      "+------------+-----------------+\n",
      "|service_name|     median_delay|\n",
      "+------------+-----------------+\n",
      "|        Lyft|              4.1|\n",
      "|         Via|7.766666666666667|\n",
      "|        Juno|              4.9|\n",
      "|        Uber|4.166666666666667|\n",
      "+------------+-----------------+\n",
      "\n"
     ]
    }
   ],
   "source": [
    "mean_delay_df = df_combined.groupBy(\"service_name\").agg(avg(\"delay_time_minutes\").alias(\"mean_delay\"))\n",
    "\n",
    "median_delay_df = df_combined.groupBy(\"service_name\").agg(\n",
    "    expr(\"percentile_approx(delay_time_minutes, 0.5)\").alias(\"median_delay\"))\n",
    "\n",
    "print(\"-----------------Mean---------------\")\n",
    "mean_delay_df.show()\n",
    "print(\"-----------------Median---------------\")\n",
    "median_delay_df.show()\n"
   ]
  },
  {
   "cell_type": "code",
   "execution_count": 27,
   "id": "03abcfea-ae6e-44b1-b193-66893f4a9d4e",
   "metadata": {
    "scrolled": true
   },
   "outputs": [
    {
     "ename": "ConnectionRefusedError",
     "evalue": "[WinError 10061] 대상 컴퓨터에서 연결을 거부했으므로 연결하지 못했습니다",
     "output_type": "error",
     "traceback": [
      "\u001b[31m---------------------------------------------------------------------------\u001b[39m",
      "\u001b[31mConnectionRefusedError\u001b[39m                    Traceback (most recent call last)",
      "\u001b[36mFile \u001b[39m\u001b[32m~\\AppData\\Local\\Programs\\Python\\Python313\\Lib\\site-packages\\IPython\\core\\formatters.py:770\u001b[39m, in \u001b[36mPlainTextFormatter.__call__\u001b[39m\u001b[34m(self, obj)\u001b[39m\n\u001b[32m    763\u001b[39m stream = StringIO()\n\u001b[32m    764\u001b[39m printer = pretty.RepresentationPrinter(stream, \u001b[38;5;28mself\u001b[39m.verbose,\n\u001b[32m    765\u001b[39m     \u001b[38;5;28mself\u001b[39m.max_width, \u001b[38;5;28mself\u001b[39m.newline,\n\u001b[32m    766\u001b[39m     max_seq_length=\u001b[38;5;28mself\u001b[39m.max_seq_length,\n\u001b[32m    767\u001b[39m     singleton_pprinters=\u001b[38;5;28mself\u001b[39m.singleton_printers,\n\u001b[32m    768\u001b[39m     type_pprinters=\u001b[38;5;28mself\u001b[39m.type_printers,\n\u001b[32m    769\u001b[39m     deferred_pprinters=\u001b[38;5;28mself\u001b[39m.deferred_printers)\n\u001b[32m--> \u001b[39m\u001b[32m770\u001b[39m \u001b[43mprinter\u001b[49m\u001b[43m.\u001b[49m\u001b[43mpretty\u001b[49m\u001b[43m(\u001b[49m\u001b[43mobj\u001b[49m\u001b[43m)\u001b[49m\n\u001b[32m    771\u001b[39m printer.flush()\n\u001b[32m    772\u001b[39m \u001b[38;5;28;01mreturn\u001b[39;00m stream.getvalue()\n",
      "\u001b[36mFile \u001b[39m\u001b[32m~\\AppData\\Local\\Programs\\Python\\Python313\\Lib\\site-packages\\IPython\\lib\\pretty.py:411\u001b[39m, in \u001b[36mRepresentationPrinter.pretty\u001b[39m\u001b[34m(self, obj)\u001b[39m\n\u001b[32m    400\u001b[39m                         \u001b[38;5;28;01mreturn\u001b[39;00m meth(obj, \u001b[38;5;28mself\u001b[39m, cycle)\n\u001b[32m    401\u001b[39m                 \u001b[38;5;28;01mif\u001b[39;00m (\n\u001b[32m    402\u001b[39m                     \u001b[38;5;28mcls\u001b[39m \u001b[38;5;129;01mis\u001b[39;00m \u001b[38;5;129;01mnot\u001b[39;00m \u001b[38;5;28mobject\u001b[39m\n\u001b[32m    403\u001b[39m                     \u001b[38;5;66;03m# check if cls defines __repr__\u001b[39;00m\n\u001b[32m   (...)\u001b[39m\u001b[32m    409\u001b[39m                     \u001b[38;5;129;01mand\u001b[39;00m \u001b[38;5;28mcallable\u001b[39m(_safe_getattr(\u001b[38;5;28mcls\u001b[39m, \u001b[33m\"\u001b[39m\u001b[33m__repr__\u001b[39m\u001b[33m\"\u001b[39m, \u001b[38;5;28;01mNone\u001b[39;00m))\n\u001b[32m    410\u001b[39m                 ):\n\u001b[32m--> \u001b[39m\u001b[32m411\u001b[39m                     \u001b[38;5;28;01mreturn\u001b[39;00m \u001b[43m_repr_pprint\u001b[49m\u001b[43m(\u001b[49m\u001b[43mobj\u001b[49m\u001b[43m,\u001b[49m\u001b[43m \u001b[49m\u001b[38;5;28;43mself\u001b[39;49m\u001b[43m,\u001b[49m\u001b[43m \u001b[49m\u001b[43mcycle\u001b[49m\u001b[43m)\u001b[49m\n\u001b[32m    413\u001b[39m     \u001b[38;5;28;01mreturn\u001b[39;00m _default_pprint(obj, \u001b[38;5;28mself\u001b[39m, cycle)\n\u001b[32m    414\u001b[39m \u001b[38;5;28;01mfinally\u001b[39;00m:\n",
      "\u001b[36mFile \u001b[39m\u001b[32m~\\AppData\\Local\\Programs\\Python\\Python313\\Lib\\site-packages\\IPython\\lib\\pretty.py:786\u001b[39m, in \u001b[36m_repr_pprint\u001b[39m\u001b[34m(obj, p, cycle)\u001b[39m\n\u001b[32m    784\u001b[39m \u001b[38;5;250m\u001b[39m\u001b[33;03m\"\"\"A pprint that just redirects to the normal repr function.\"\"\"\u001b[39;00m\n\u001b[32m    785\u001b[39m \u001b[38;5;66;03m# Find newlines and replace them with p.break_()\u001b[39;00m\n\u001b[32m--> \u001b[39m\u001b[32m786\u001b[39m output = \u001b[38;5;28;43mrepr\u001b[39;49m\u001b[43m(\u001b[49m\u001b[43mobj\u001b[49m\u001b[43m)\u001b[49m\n\u001b[32m    787\u001b[39m lines = output.splitlines()\n\u001b[32m    788\u001b[39m \u001b[38;5;28;01mwith\u001b[39;00m p.group():\n",
      "\u001b[36mFile \u001b[39m\u001b[32m~\\AppData\\Local\\Programs\\Python\\Python313\\Lib\\site-packages\\pyspark\\sql\\dataframe.py:981\u001b[39m, in \u001b[36mDataFrame.__repr__\u001b[39m\u001b[34m(self)\u001b[39m\n\u001b[32m    980\u001b[39m \u001b[38;5;28;01mdef\u001b[39;00m\u001b[38;5;250m \u001b[39m\u001b[34m__repr__\u001b[39m(\u001b[38;5;28mself\u001b[39m) -> \u001b[38;5;28mstr\u001b[39m:\n\u001b[32m--> \u001b[39m\u001b[32m981\u001b[39m     \u001b[38;5;28;01mif\u001b[39;00m \u001b[38;5;129;01mnot\u001b[39;00m \u001b[38;5;28mself\u001b[39m._support_repr_html \u001b[38;5;129;01mand\u001b[39;00m \u001b[38;5;28;43mself\u001b[39;49m\u001b[43m.\u001b[49m\u001b[43msparkSession\u001b[49m\u001b[43m.\u001b[49m\u001b[43m_jconf\u001b[49m.isReplEagerEvalEnabled():\n\u001b[32m    982\u001b[39m         vertical = \u001b[38;5;28;01mFalse\u001b[39;00m\n\u001b[32m    983\u001b[39m         \u001b[38;5;28;01mreturn\u001b[39;00m \u001b[38;5;28mself\u001b[39m._jdf.showString(\n\u001b[32m    984\u001b[39m             \u001b[38;5;28mself\u001b[39m.sparkSession._jconf.replEagerEvalMaxNumRows(),\n\u001b[32m    985\u001b[39m             \u001b[38;5;28mself\u001b[39m.sparkSession._jconf.replEagerEvalTruncate(),\n\u001b[32m    986\u001b[39m             vertical,\n\u001b[32m    987\u001b[39m         )\n",
      "\u001b[36mFile \u001b[39m\u001b[32m~\\AppData\\Local\\Programs\\Python\\Python313\\Lib\\site-packages\\pyspark\\sql\\session.py:624\u001b[39m, in \u001b[36mSparkSession._jconf\u001b[39m\u001b[34m(self)\u001b[39m\n\u001b[32m    621\u001b[39m \u001b[38;5;129m@property\u001b[39m\n\u001b[32m    622\u001b[39m \u001b[38;5;28;01mdef\u001b[39;00m\u001b[38;5;250m \u001b[39m\u001b[34m_jconf\u001b[39m(\u001b[38;5;28mself\u001b[39m) -> \u001b[33m\"\u001b[39m\u001b[33mJavaObject\u001b[39m\u001b[33m\"\u001b[39m:\n\u001b[32m    623\u001b[39m \u001b[38;5;250m    \u001b[39m\u001b[33;03m\"\"\"Accessor for the JVM SQL-specific configurations\"\"\"\u001b[39;00m\n\u001b[32m--> \u001b[39m\u001b[32m624\u001b[39m     \u001b[38;5;28;01mreturn\u001b[39;00m \u001b[38;5;28;43mself\u001b[39;49m\u001b[43m.\u001b[49m\u001b[43m_jsparkSession\u001b[49m\u001b[43m.\u001b[49m\u001b[43msessionState\u001b[49m\u001b[43m(\u001b[49m\u001b[43m)\u001b[49m.conf()\n",
      "\u001b[36mFile \u001b[39m\u001b[32m~\\AppData\\Local\\Programs\\Python\\Python313\\Lib\\site-packages\\py4j\\java_gateway.py:1321\u001b[39m, in \u001b[36mJavaMember.__call__\u001b[39m\u001b[34m(self, *args)\u001b[39m\n\u001b[32m   1314\u001b[39m args_command, temp_args = \u001b[38;5;28mself\u001b[39m._build_args(*args)\n\u001b[32m   1316\u001b[39m command = proto.CALL_COMMAND_NAME +\\\n\u001b[32m   1317\u001b[39m     \u001b[38;5;28mself\u001b[39m.command_header +\\\n\u001b[32m   1318\u001b[39m     args_command +\\\n\u001b[32m   1319\u001b[39m     proto.END_COMMAND_PART\n\u001b[32m-> \u001b[39m\u001b[32m1321\u001b[39m answer = \u001b[38;5;28;43mself\u001b[39;49m\u001b[43m.\u001b[49m\u001b[43mgateway_client\u001b[49m\u001b[43m.\u001b[49m\u001b[43msend_command\u001b[49m\u001b[43m(\u001b[49m\u001b[43mcommand\u001b[49m\u001b[43m)\u001b[49m\n\u001b[32m   1322\u001b[39m return_value = get_return_value(\n\u001b[32m   1323\u001b[39m     answer, \u001b[38;5;28mself\u001b[39m.gateway_client, \u001b[38;5;28mself\u001b[39m.target_id, \u001b[38;5;28mself\u001b[39m.name)\n\u001b[32m   1325\u001b[39m \u001b[38;5;28;01mfor\u001b[39;00m temp_arg \u001b[38;5;129;01min\u001b[39;00m temp_args:\n",
      "\u001b[36mFile \u001b[39m\u001b[32m~\\AppData\\Local\\Programs\\Python\\Python313\\Lib\\site-packages\\py4j\\java_gateway.py:1036\u001b[39m, in \u001b[36mGatewayClient.send_command\u001b[39m\u001b[34m(self, command, retry, binary)\u001b[39m\n\u001b[32m   1015\u001b[39m \u001b[38;5;28;01mdef\u001b[39;00m\u001b[38;5;250m \u001b[39m\u001b[34msend_command\u001b[39m(\u001b[38;5;28mself\u001b[39m, command, retry=\u001b[38;5;28;01mTrue\u001b[39;00m, binary=\u001b[38;5;28;01mFalse\u001b[39;00m):\n\u001b[32m   1016\u001b[39m \u001b[38;5;250m    \u001b[39m\u001b[33;03m\"\"\"Sends a command to the JVM. This method is not intended to be\u001b[39;00m\n\u001b[32m   1017\u001b[39m \u001b[33;03m       called directly by Py4J users. It is usually called by\u001b[39;00m\n\u001b[32m   1018\u001b[39m \u001b[33;03m       :class:`JavaMember` instances.\u001b[39;00m\n\u001b[32m   (...)\u001b[39m\u001b[32m   1034\u001b[39m \u001b[33;03m     if `binary` is `True`.\u001b[39;00m\n\u001b[32m   1035\u001b[39m \u001b[33;03m    \"\"\"\u001b[39;00m\n\u001b[32m-> \u001b[39m\u001b[32m1036\u001b[39m     connection = \u001b[38;5;28;43mself\u001b[39;49m\u001b[43m.\u001b[49m\u001b[43m_get_connection\u001b[49m\u001b[43m(\u001b[49m\u001b[43m)\u001b[49m\n\u001b[32m   1037\u001b[39m     \u001b[38;5;28;01mtry\u001b[39;00m:\n\u001b[32m   1038\u001b[39m         response = connection.send_command(command)\n",
      "\u001b[36mFile \u001b[39m\u001b[32m~\\AppData\\Local\\Programs\\Python\\Python313\\Lib\\site-packages\\py4j\\clientserver.py:284\u001b[39m, in \u001b[36mJavaClient._get_connection\u001b[39m\u001b[34m(self)\u001b[39m\n\u001b[32m    281\u001b[39m     \u001b[38;5;28;01mpass\u001b[39;00m\n\u001b[32m    283\u001b[39m \u001b[38;5;28;01mif\u001b[39;00m connection \u001b[38;5;129;01mis\u001b[39;00m \u001b[38;5;28;01mNone\u001b[39;00m \u001b[38;5;129;01mor\u001b[39;00m connection.socket \u001b[38;5;129;01mis\u001b[39;00m \u001b[38;5;28;01mNone\u001b[39;00m:\n\u001b[32m--> \u001b[39m\u001b[32m284\u001b[39m     connection = \u001b[38;5;28;43mself\u001b[39;49m\u001b[43m.\u001b[49m\u001b[43m_create_new_connection\u001b[49m\u001b[43m(\u001b[49m\u001b[43m)\u001b[49m\n\u001b[32m    285\u001b[39m \u001b[38;5;28;01mreturn\u001b[39;00m connection\n",
      "\u001b[36mFile \u001b[39m\u001b[32m~\\AppData\\Local\\Programs\\Python\\Python313\\Lib\\site-packages\\py4j\\clientserver.py:291\u001b[39m, in \u001b[36mJavaClient._create_new_connection\u001b[39m\u001b[34m(self)\u001b[39m\n\u001b[32m    287\u001b[39m \u001b[38;5;28;01mdef\u001b[39;00m\u001b[38;5;250m \u001b[39m\u001b[34m_create_new_connection\u001b[39m(\u001b[38;5;28mself\u001b[39m):\n\u001b[32m    288\u001b[39m     connection = ClientServerConnection(\n\u001b[32m    289\u001b[39m         \u001b[38;5;28mself\u001b[39m.java_parameters, \u001b[38;5;28mself\u001b[39m.python_parameters,\n\u001b[32m    290\u001b[39m         \u001b[38;5;28mself\u001b[39m.gateway_property, \u001b[38;5;28mself\u001b[39m)\n\u001b[32m--> \u001b[39m\u001b[32m291\u001b[39m     \u001b[43mconnection\u001b[49m\u001b[43m.\u001b[49m\u001b[43mconnect_to_java_server\u001b[49m\u001b[43m(\u001b[49m\u001b[43m)\u001b[49m\n\u001b[32m    292\u001b[39m     \u001b[38;5;28mself\u001b[39m.set_thread_connection(connection)\n\u001b[32m    293\u001b[39m     \u001b[38;5;28;01mreturn\u001b[39;00m connection\n",
      "\u001b[36mFile \u001b[39m\u001b[32m~\\AppData\\Local\\Programs\\Python\\Python313\\Lib\\site-packages\\py4j\\clientserver.py:438\u001b[39m, in \u001b[36mClientServerConnection.connect_to_java_server\u001b[39m\u001b[34m(self)\u001b[39m\n\u001b[32m    435\u001b[39m \u001b[38;5;28;01mif\u001b[39;00m \u001b[38;5;28mself\u001b[39m.ssl_context:\n\u001b[32m    436\u001b[39m     \u001b[38;5;28mself\u001b[39m.socket = \u001b[38;5;28mself\u001b[39m.ssl_context.wrap_socket(\n\u001b[32m    437\u001b[39m         \u001b[38;5;28mself\u001b[39m.socket, server_hostname=\u001b[38;5;28mself\u001b[39m.java_address)\n\u001b[32m--> \u001b[39m\u001b[32m438\u001b[39m \u001b[38;5;28;43mself\u001b[39;49m\u001b[43m.\u001b[49m\u001b[43msocket\u001b[49m\u001b[43m.\u001b[49m\u001b[43mconnect\u001b[49m\u001b[43m(\u001b[49m\u001b[43m(\u001b[49m\u001b[38;5;28;43mself\u001b[39;49m\u001b[43m.\u001b[49m\u001b[43mjava_address\u001b[49m\u001b[43m,\u001b[49m\u001b[43m \u001b[49m\u001b[38;5;28;43mself\u001b[39;49m\u001b[43m.\u001b[49m\u001b[43mjava_port\u001b[49m\u001b[43m)\u001b[49m\u001b[43m)\u001b[49m\n\u001b[32m    439\u001b[39m \u001b[38;5;28mself\u001b[39m.stream = \u001b[38;5;28mself\u001b[39m.socket.makefile(\u001b[33m\"\u001b[39m\u001b[33mrb\u001b[39m\u001b[33m\"\u001b[39m)\n\u001b[32m    440\u001b[39m \u001b[38;5;28mself\u001b[39m.is_connected = \u001b[38;5;28;01mTrue\u001b[39;00m\n",
      "\u001b[31mConnectionRefusedError\u001b[39m: [WinError 10061] 대상 컴퓨터에서 연결을 거부했으므로 연결하지 못했습니다"
     ]
    }
   ],
   "source": [
    "df_combined"
   ]
  },
  {
   "cell_type": "code",
   "execution_count": null,
   "id": "81d9fb4c-54bb-4691-bb96-391387d51d03",
   "metadata": {},
   "outputs": [],
   "source": []
  },
  {
   "cell_type": "code",
   "execution_count": null,
   "id": "e1f01fb4-556e-4eb1-a4cd-0b2a8a6ea3a9",
   "metadata": {},
   "outputs": [],
   "source": []
  },
  {
   "cell_type": "code",
   "execution_count": null,
   "id": "60604b47-cacc-47cd-800d-46c76a1131f0",
   "metadata": {},
   "outputs": [],
   "source": []
  },
  {
   "cell_type": "code",
   "execution_count": null,
   "id": "8ee47b7f-d442-4fa2-a0c2-fff58f1bba02",
   "metadata": {},
   "outputs": [],
   "source": []
  },
  {
   "cell_type": "code",
   "execution_count": null,
   "id": "758e09e3-36c0-4533-9a47-5a1f12d8582a",
   "metadata": {},
   "outputs": [],
   "source": []
  },
  {
   "cell_type": "code",
   "execution_count": null,
   "id": "ed220d3f-0572-4c55-9751-97d9a38de0fb",
   "metadata": {},
   "outputs": [],
   "source": []
  },
  {
   "cell_type": "code",
   "execution_count": null,
   "id": "2090f906-7bdc-4f98-9b49-23f6f5e266b7",
   "metadata": {},
   "outputs": [],
   "source": []
  },
  {
   "cell_type": "code",
   "execution_count": null,
   "id": "35282eae-5a06-42f8-8472-5d4a0f0f47d2",
   "metadata": {},
   "outputs": [],
   "source": []
  },
  {
   "cell_type": "code",
   "execution_count": null,
   "id": "7174dcd9-d8bd-4b9b-82e7-db113b698d44",
   "metadata": {},
   "outputs": [],
   "source": []
  },
  {
   "cell_type": "code",
   "execution_count": null,
   "id": "0282c584-ae28-44c2-a000-66a857de4d94",
   "metadata": {},
   "outputs": [],
   "source": []
  },
  {
   "cell_type": "code",
   "execution_count": null,
   "id": "817e5861-0560-485d-b3cb-70443a78b024",
   "metadata": {},
   "outputs": [],
   "source": []
  },
  {
   "cell_type": "code",
   "execution_count": null,
   "id": "41cd3b13-3cf6-4d71-84ea-d4eb8204d002",
   "metadata": {},
   "outputs": [],
   "source": []
  }
 ],
 "metadata": {
  "kernelspec": {
   "display_name": "Python 3 (ipykernel)",
   "language": "python",
   "name": "python3"
  },
  "language_info": {
   "codemirror_mode": {
    "name": "ipython",
    "version": 3
   },
   "file_extension": ".py",
   "mimetype": "text/x-python",
   "name": "python",
   "nbconvert_exporter": "python",
   "pygments_lexer": "ipython3",
   "version": "3.13.2"
  }
 },
 "nbformat": 4,
 "nbformat_minor": 5
}
